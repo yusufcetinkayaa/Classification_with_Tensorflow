{
 "cells": [
  {
   "cell_type": "code",
   "execution_count": null,
   "metadata": {},
   "outputs": [],
   "source": [
    "import tensorflow\n",
    "import matplotlib.pyplot as plt\n",
    "import scipy\n",
    "from keras.applications.vgg16 import VGG16\n",
    "\n",
    "imagenetModel = VGG16(weights='imagenet',\n",
    "                  include_top=False,\n",
    "                  input_shape=(224, 224, 3)\n",
    "                  )\n",
    "\n",
    "imagenetModel.summary()"
   ]
  },
  {
   "cell_type": "code",
   "execution_count": null,
   "metadata": {},
   "outputs": [],
   "source": [
    "imagenetModel.trainable = True\n",
    "set_trainable = False\n",
    "for layer in imagenetModel.layers:\n",
    "    if layer.name == 'block5_conv1':\n",
    "        set_trainable = True\n",
    "    if set_trainable:\n",
    "        layer.trainable = True\n",
    "    else:\n",
    "        layer.trainable = False\n",
    "\n",
    "model = tensorflow.keras.models.Sequential()\n",
    "model.add(imagenetModel)\n",
    "model.add(tensorflow.keras.layers.Flatten())\n",
    "model.add(tensorflow.keras.layers.Dense(256,activation='relu'))\n",
    "model.add(tensorflow.keras.layers.Dense(4,activation='softmax'))\n",
    "model.compile(loss='binary_crossentropy',\n",
    "              optimizer=tensorflow.keras.optimizers.RMSprop(lr=1e-5),\n",
    "              metrics=['acc'])\n",
    "\n",
    "model.summary()"
   ]
  },
  {
   "cell_type": "code",
   "execution_count": null,
   "metadata": {},
   "outputs": [],
   "source": [
    "egitim_yolu = r'TrainPath'\n",
    "gecerleme_yolu = r'ValidationPath'\n",
    "test_yolu = r'TestPath'\n",
    "\n",
    "train_datagen = tensorflow.keras.preprocessing.image.ImageDataGenerator(\n",
    "      rescale=1./255, \n",
    "      rotation_range=40, \n",
    "      width_shift_range=0.2,\n",
    "      height_shift_range=0.2,\n",
    "      shear_range=0.2,\n",
    "      brightness_range=[0.2,1.0],\n",
    "      zoom_range=0.2,\n",
    "      horizontal_flip = False,\n",
    "      fill_mode='nearest'\n",
    "      )\n",
    "\n",
    "train_generator = train_datagen.flow_from_directory(\n",
    "        egitim_yolu,\n",
    "        target_size=(224, 224),\n",
    "        batch_size=16,\n",
    "        )\n",
    "\n",
    "validation_datagen = tensorflow.keras.preprocessing.image.ImageDataGenerator(\n",
    "        rescale=1./255\n",
    "        )\n",
    "\n",
    "validation_generator = validation_datagen.flow_from_directory(\n",
    "        gecerleme_yolu,\n",
    "        target_size=(224, 224),\n",
    "        batch_size=16,\n",
    "        )"
   ]
  },
  {
   "cell_type": "code",
   "execution_count": 9,
   "metadata": {},
   "outputs": [],
   "source": [
    "class MyThresholdCallback(tensorflow.keras.callbacks.Callback):\n",
    "    def __init__(self, acc_limit,val_limit):\n",
    "        super(MyThresholdCallback, self).__init__()\n",
    "        self.acc_limit = acc_limit\n",
    "        self.val_limit = val_limit\n",
    "    def on_epoch_end(self, epoch, logs=None): \n",
    "        acc = logs[\"acc\"]\n",
    "        val_acc = logs[\"val_acc\"]\n",
    "        if val_acc >= self.val_limit :\n",
    "            if acc >= self.acc_limit :\n",
    "                self.model.stop_training = True\n",
    "\n",
    "callbacks = MyThresholdCallback(acc_limit=0.85, val_limit=0.85)"
   ]
  },
  {
   "cell_type": "code",
   "execution_count": null,
   "metadata": {},
   "outputs": [],
   "source": [
    "history = model.fit( \n",
    "      train_generator,\n",
    "      steps_per_epoch=15,\n",
    "      epochs=60,\n",
    "      validation_data=validation_generator,\n",
    "      validation_steps=1,\n",
    "      callbacks=[callbacks]\n",
    "      )\n",
    "\n"
   ]
  },
  {
   "cell_type": "code",
   "execution_count": null,
   "metadata": {},
   "outputs": [],
   "source": [
    "model.save('ModelPath')\n",
    "\n",
    "test_datagen = tensorflow.keras.preprocessing.image.ImageDataGenerator(\n",
    "        rescale=1./255\n",
    "        )\n",
    "\n",
    "test_generator = test_datagen.flow_from_directory(\n",
    "       test_yolu,\n",
    "        target_size=(224, 224),\n",
    "        batch_size=16,\n",
    "        )"
   ]
  },
  {
   "cell_type": "code",
   "execution_count": null,
   "metadata": {},
   "outputs": [],
   "source": [
    "print(history.history.keys())\n",
    "plt.plot(history.history['acc'])\n",
    "plt.plot(history.history['loss'])\n",
    "plt.plot(history.history['val_acc'])\n",
    "plt.plot(history.history['val_loss'])\n",
    "plt.title('model accuracy')\n",
    "plt.ylabel('accuracy')\n",
    "plt.xlabel('epoch')\n",
    "plt.legend(['train_acc', 'train_loss', 'validation_acc', 'validation_loss'], loc='upper left')\n",
    "plt.show()\n",
    "\n",
    "test_loss, test_acc = model.evaluate_generator(test_generator, steps=50)\n",
    "print('test acc:', test_acc)"
   ]
  }
 ],
 "metadata": {
  "interpreter": {
   "hash": "cdd283f903e465d9ed7feba5317d294ff02d0d50270105dbb772246178790984"
  },
  "kernelspec": {
   "display_name": "Python 3.10.4 64-bit",
   "language": "python",
   "name": "python3"
  },
  "language_info": {
   "codemirror_mode": {
    "name": "ipython",
    "version": 3
   },
   "file_extension": ".py",
   "mimetype": "text/x-python",
   "name": "python",
   "nbconvert_exporter": "python",
   "pygments_lexer": "ipython3",
   "version": "3.10.4"
  },
  "orig_nbformat": 4
 },
 "nbformat": 4,
 "nbformat_minor": 2
}
