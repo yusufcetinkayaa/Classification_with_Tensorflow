{
 "cells": [
  {
   "cell_type": "code",
   "execution_count": 2,
   "metadata": {},
   "outputs": [
    {
     "name": "stdout",
     "output_type": "stream",
     "text": [
      "1/1 [==============================] - 0s 266ms/step\n",
      "0.0\n",
      "1.0\n",
      "Sol Göz\n"
     ]
    }
   ],
   "source": [
    "import cv2\n",
    "import tensorflow as tf\n",
    "\n",
    "Categories = [\"Closed\",\"Left\",\"Open\",\"Right\"]\n",
    "\n",
    "def prepare(filepath):\n",
    "    img_size = 224\n",
    "    img_array = cv2.imread(filepath)\n",
    "    new_array = cv2.resize(img_array,(img_size,img_size),3)\n",
    "    return new_array.reshape(-1,img_size,img_size,3)\n",
    "\n",
    "model = tf.keras.models.load_model('ModelPath')\n",
    "\n",
    "prediction = model.predict([prepare(r'TestImage')])\n",
    "\n",
    "max = -1\n",
    "indis = -1\n",
    "for x in range(4):\n",
    "    if prediction[0][x]>max:\n",
    "        indis = x\n",
    "        max = prediction[0][x]\n",
    "\n",
    "dizi =[\"Kapalı\", \"Sol Göz\", \"Açık\", \"Sağ\"]\n",
    "print(dizi[indis])"
   ]
  }
 ],
 "metadata": {
  "interpreter": {
   "hash": "cdd283f903e465d9ed7feba5317d294ff02d0d50270105dbb772246178790984"
  },
  "kernelspec": {
   "display_name": "Python 3.10.4 64-bit",
   "language": "python",
   "name": "python3"
  },
  "language_info": {
   "codemirror_mode": {
    "name": "ipython",
    "version": 3
   },
   "file_extension": ".py",
   "mimetype": "text/x-python",
   "name": "python",
   "nbconvert_exporter": "python",
   "pygments_lexer": "ipython3",
   "version": "3.10.4"
  },
  "orig_nbformat": 4
 },
 "nbformat": 4,
 "nbformat_minor": 2
}
